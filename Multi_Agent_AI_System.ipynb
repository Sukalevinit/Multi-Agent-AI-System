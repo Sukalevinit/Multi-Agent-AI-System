{
  "nbformat": 4,
  "nbformat_minor": 0,
  "metadata": {
    "colab": {
      "provenance": []
    },
    "kernelspec": {
      "name": "python3",
      "display_name": "Python 3"
    },
    "language_info": {
      "name": "python"
    }
  },
  "cells": [
    {
      "cell_type": "markdown",
      "source": [
        ".env"
      ],
      "metadata": {
        "id": "jckUfayzXO8C"
      }
    },
    {
      "cell_type": "code",
      "execution_count": 3,
      "metadata": {
        "colab": {
          "base_uri": "https://localhost:8080/"
        },
        "id": "w2UwG2ndXOQf",
        "outputId": "002453b6-290f-4c06-a9c9-7e94071e340e"
      },
      "outputs": [
        {
          "output_type": "stream",
          "name": "stdout",
          "text": [
            "env: OW_API_KEY=4a576347b547a6d8f5e8796a7519f7e8\n",
            "env: NEWS_API_KEY=d48456bca5eb49c8a822fa59e17b259c\n"
          ]
        }
      ],
      "source": [
        "%env OW_API_KEY=4a576347b547a6d8f5e8796a7519f7e8\n",
        "%env NEWS_API_KEY=d48456bca5eb49c8a822fa59e17b259c"
      ]
    },
    {
      "cell_type": "markdown",
      "source": [
        "Install and Import"
      ],
      "metadata": {
        "id": "Lspfh9JCXZhR"
      }
    },
    {
      "cell_type": "code",
      "source": [
        "!pip install requests python-dotenv\n"
      ],
      "metadata": {
        "colab": {
          "base_uri": "https://localhost:8080/"
        },
        "id": "LWdWQMrAXa-o",
        "outputId": "1c727182-696a-4296-ad1c-043b1d454315"
      },
      "execution_count": 4,
      "outputs": [
        {
          "output_type": "stream",
          "name": "stdout",
          "text": [
            "Requirement already satisfied: requests in /usr/local/lib/python3.11/dist-packages (2.32.3)\n",
            "Collecting python-dotenv\n",
            "  Downloading python_dotenv-1.1.0-py3-none-any.whl.metadata (24 kB)\n",
            "Requirement already satisfied: charset-normalizer<4,>=2 in /usr/local/lib/python3.11/dist-packages (from requests) (3.4.2)\n",
            "Requirement already satisfied: idna<4,>=2.5 in /usr/local/lib/python3.11/dist-packages (from requests) (3.10)\n",
            "Requirement already satisfied: urllib3<3,>=1.21.1 in /usr/local/lib/python3.11/dist-packages (from requests) (2.4.0)\n",
            "Requirement already satisfied: certifi>=2017.4.17 in /usr/local/lib/python3.11/dist-packages (from requests) (2025.4.26)\n",
            "Downloading python_dotenv-1.1.0-py3-none-any.whl (20 kB)\n",
            "Installing collected packages: python-dotenv\n",
            "Successfully installed python-dotenv-1.1.0\n"
          ]
        }
      ]
    },
    {
      "cell_type": "code",
      "source": [
        "import requests\n",
        "import os\n",
        "from dotenv import load_dotenv\n",
        "\n",
        "load_dotenv()\n"
      ],
      "metadata": {
        "colab": {
          "base_uri": "https://localhost:8080/"
        },
        "id": "jCJD4LxQXd7I",
        "outputId": "ff30e567-5786-4c38-9555-9dfb5fd4c33b"
      },
      "execution_count": 5,
      "outputs": [
        {
          "output_type": "execute_result",
          "data": {
            "text/plain": [
              "False"
            ]
          },
          "metadata": {},
          "execution_count": 5
        }
      ]
    },
    {
      "cell_type": "markdown",
      "source": [
        "Planner (next launch from SpaceX)"
      ],
      "metadata": {
        "id": "eINqAGZ4XghX"
      }
    },
    {
      "cell_type": "code",
      "source": [
        "def get_next_launch():\n",
        "    \"\"\"Query SpaceX API to find the next launch's site and datetime.\"\"\"\n",
        "    res = requests.get(\"https://api.spacexdata.com/v4/launches/next\")\n",
        "    launch = res.json()\n",
        "    return {\n",
        "        \"location_id\": launch['launchpad'],\n",
        "        \"time\": launch['date_utc']\n",
        "    }\n"
      ],
      "metadata": {
        "id": "XZ-oOaPyXh4I"
      },
      "execution_count": 6,
      "outputs": []
    },
    {
      "cell_type": "markdown",
      "source": [
        "Weather (using launch's location)"
      ],
      "metadata": {
        "id": "-dpMff8xXmC_"
      }
    },
    {
      "cell_type": "code",
      "source": [
        "def get_weather(launch):\n",
        "    \"\"\"Using launch's location, find the forecast for launch time.\"\"\"\n",
        "    API_KEY = os.getenv(\"OW_API_KEY\")\n",
        "    launchpad_url = f\"https://api.spacexdata.com/v4/launchpads/{launch['location_id']}\"\n",
        "    res = requests.get(launchpad_url)\n",
        "    launchpad = res.json()\n",
        "    lat, lon = launchpad['latitude'], launchpad['longitude']\n",
        "\n",
        "    res = requests.get(\n",
        "        \"https://api.openweathermap.org/data/2.5/forecast\",\n",
        "        params={\"appid\": API_KEY, \"lat\": lat, \"lon\": lon, \"units\": \"metric\"}\n",
        "    )\n",
        "    forecast = res.json()\n",
        "\n",
        "    # Add error handling to check if the API call was successful and the expected keys exist\n",
        "    if res.status_code != 200 or 'list' not in forecast:\n",
        "        print(f\"Error fetching weather data: {forecast}\")\n",
        "        # You might want to raise an exception or return a default value here\n",
        "        # For now, returning an empty structure to prevent the KeyError in summarize\n",
        "        return {\n",
        "            \"latitude\": lat,\n",
        "            \"longitude\": lon,\n",
        "            \"forecast\": {\"list\": [{\"weather\": [{\"description\": \"N/A\"}], \"main\": {\"temp\": \"N/A\"}}]}\n",
        "        }\n",
        "\n",
        "    return {\n",
        "        \"latitude\": lat,\n",
        "        \"longitude\": lon,\n",
        "        \"forecast\": forecast\n",
        "    }"
      ],
      "metadata": {
        "id": "SeL6iFBNXlTv"
      },
      "execution_count": 11,
      "outputs": []
    },
    {
      "cell_type": "markdown",
      "source": [
        "News (using launch's details)"
      ],
      "metadata": {
        "id": "jBEDqqhPXrC-"
      }
    },
    {
      "cell_type": "code",
      "source": [
        "# The rest of the code remains the same\n",
        "def get_next_launch():\n",
        "    \"\"\"Query SpaceX API to find the next launch's site and datetime.\"\"\"\n",
        "    res = requests.get(\"https://api.spacexdata.com/v4/launches/next\")\n",
        "    launch = res.json()\n",
        "    return {\n",
        "        \"location_id\": launch['launchpad'],\n",
        "        \"time\": launch['date_utc']\n",
        "    }\n",
        "\n",
        "def get_news(launch):\n",
        "    \"\"\"Search News API for articles related to SpaceX launch.\"\"\"\n",
        "    API_KEY = os.getenv(\"NEWS_API_KEY\")\n",
        "    res = requests.get(\"https://newsapi.org/v2/everything\",\n",
        "                        params={\"q\": \"SpaceX launch\", \"apiKey\": API_KEY})\n",
        "    articles = res.json()[\"articles\"][:5]  # first 5 articles\n",
        "    return articles"
      ],
      "metadata": {
        "id": "PhpZ3nZqXrsG"
      },
      "execution_count": 12,
      "outputs": []
    },
    {
      "cell_type": "markdown",
      "source": [
        "Combine into Summary"
      ],
      "metadata": {
        "id": "MV_VGEqcXvwe"
      }
    },
    {
      "cell_type": "code",
      "source": [
        "def summarize(launch, weather, news):\n",
        "    \"\"\"Combine all into a summary.\"\"\"\n",
        "    # Use .get() with default values to safely access nested keys\n",
        "    weather_description = weather.get('forecast', {}).get('list', [{}])[0].get('weather', [{}])[0].get('description', 'N/A')\n",
        "    temp = weather.get('forecast', {}).get('list', [{}])[0].get('main', {}).get('temp', 'N/A')\n",
        "\n",
        "    summary = f\"\"\"🚀 Next launch:\n",
        "    - Location (latitude:{weather.get('latitude', 'N/A')} , longitude:{weather.get('longitude', 'N/A')})\n",
        "    - Time: {launch.get('time', 'N/A')}\n",
        "    - Weather forecast at launch: {weather_description} with temperature {temp}°C\n",
        "\n",
        "    📰 News related to launch:\n",
        "    \"\"\"\n",
        "    for i, article in enumerate(news, 1):\n",
        "        # Use .get() with default values for article details as well\n",
        "        title = article.get('title', 'No Title')\n",
        "        url = article.get('url', '#')\n",
        "        summary += f\"{i}. {title} - {url}\\n\"\n",
        "\n",
        "    return summary"
      ],
      "metadata": {
        "id": "U1BSqozYXwX1"
      },
      "execution_count": 13,
      "outputs": []
    },
    {
      "cell_type": "markdown",
      "source": [
        "Run pipeline"
      ],
      "metadata": {
        "id": "TEcVugNmX1Nd"
      }
    },
    {
      "cell_type": "code",
      "source": [
        "launch = get_next_launch()\n",
        "weather = get_weather(launch)\n",
        "news = get_news(launch)\n",
        "\n",
        "final_report = summarize(launch, weather, news)\n",
        "print(final_report)"
      ],
      "metadata": {
        "colab": {
          "base_uri": "https://localhost:8080/"
        },
        "id": "XB_7GVRGX3MM",
        "outputId": "861e6cc1-c76c-4f3f-9629-717ae67fa83a"
      },
      "execution_count": 14,
      "outputs": [
        {
          "output_type": "stream",
          "name": "stdout",
          "text": [
            "Error fetching weather data: {'cod': 401, 'message': 'Invalid API key. Please see https://openweathermap.org/faq#error401 for more info.'}\n",
            "🚀 Next launch:\n",
            "    - Location (latitude:28.6080585 , longitude:-80.6039558)\n",
            "    - Time: 2022-11-01T13:41:00.000Z\n",
            "    - Weather forecast at launch: N/A with temperature N/A°C\n",
            "\n",
            "    📰 News related to launch:\n",
            "    1. SpaceX Tests Starship Fixes After Back-to-Back Failures - https://www.wired.com/story/spacex-tests-starship-fixes-after-back-to-back-failures/\n",
            "2. Florida Environmentalists Sound Alarm on SpaceX Bid to Launch 120 Rockets a Year - https://gizmodo.com/florida-environmentalists-sound-alarm-on-spacex-bid-to-launch-120-rockets-a-year-2000603090\n",
            "3. Watch Live as SpaceX Tries to Break Starship’s Explosive Losing Streak - https://gizmodo.com/watch-live-as-spacex-tries-to-break-starships-explosive-losing-streak-2000607609\n",
            "4. After Back-to-Back Flops, SpaceX Says Starship’s 9th Test Flight Is a Go - https://gizmodo.com/after-back-to-back-flops-spacex-says-starships-9th-test-flight-is-a-go-2000606706\n",
            "5. How To Watch SpaceX's Next Starship Test Flight on Tuesday - https://www.cnet.com/science/space/how-to-watch-spacexs-next-starship-test-flight-on-tuesday/\n",
            "\n"
          ]
        }
      ]
    },
    {
      "cell_type": "markdown",
      "source": [
        "Prediction After 2025"
      ],
      "metadata": {
        "id": "ePl5BIgVa3sR"
      }
    },
    {
      "cell_type": "code",
      "source": [
        "import requests\n",
        "import os\n",
        "from dotenv import load_dotenv\n",
        "from datetime import datetime\n",
        "\n",
        "load_dotenv()\n",
        "\n",
        "def get_next_launch_after_2025():\n",
        "    \"\"\"Query SpaceX API to find the next launch after 2025's end.\"\"\"\n",
        "    res = requests.get(\"https://api.spacexdata.com/v4/launches/upcoming\")\n",
        "    upcoming_launches = res.json()\n",
        "\n",
        "    # Define the target date (end of 2025)\n",
        "    target_date = datetime(2025, 12, 31, 23, 59, 59)\n",
        "\n",
        "    for launch in upcoming_launches:\n",
        "        launch_time_utc = launch.get('date_utc', 'N/A')\n",
        "        if launch_time_utc != 'N/A':\n",
        "            try:\n",
        "                # Attempt to parse the date string into a datetime object\n",
        "                # Handles both formats 'YYYY-MM-DDTHH:MM:SS.sssZ' and 'YYYY-MM-DDTHH:MM:SZ'\n",
        "                try:\n",
        "                    launch_datetime_obj = datetime.strptime(launch_time_utc, \"%Y-%m-%dT%H:%M:%S.%fZ\")\n",
        "                except ValueError:\n",
        "                    launch_datetime_obj = datetime.strptime(launch_time_utc, \"%Y-%m-%dT%H:%M:%SZ\")\n",
        "\n",
        "                # Check if the launch date is after the target date\n",
        "                if launch_datetime_obj > target_date:\n",
        "                    return {\n",
        "                        \"location_id\": launch['launchpad'],\n",
        "                        \"time\": launch_time_obj.strftime(\"%Y-%m-%dT%H:%M:%S.%fZ\") # Return the original format or similar\n",
        "                    }\n",
        "            except ValueError:\n",
        "                # Handle cases where date string format is unexpected\n",
        "                print(f\"Could not parse date for launch: {launch_time_utc}\")\n",
        "                continue # Skip to the next launch\n",
        "\n",
        "    # If no launch found after 2025\n",
        "    print(\"No SpaceX launch found after 2025.\")\n",
        "    # Return a default structure to avoid KeyErrors in subsequent functions\n",
        "    return {\n",
        "        \"location_id\": \"N/A\",\n",
        "        \"time\": \"N/A\"\n",
        "    }\n",
        "\n",
        "\n",
        "def get_weather(launch):\n",
        "    \"\"\"Using launch's location, find the forecast for launch time.\"\"\"\n",
        "    API_KEY = os.getenv(\"OW_API_KEY\")\n",
        "    # Check if location_id is available before making the API call\n",
        "    if launch.get('location_id', 'N/A') == 'N/A':\n",
        "         print(\"No launch location available for weather forecast.\")\n",
        "         return {\n",
        "            \"latitude\": \"N/A\",\n",
        "            \"longitude\": \"N/A\",\n",
        "            \"forecast\": {\"list\": [{\"weather\": [{\"description\": \"N/A\"}], \"main\": {\"temp\": \"N/A\"}}]}\n",
        "        }\n",
        "\n",
        "    launchpad_url = f\"https://api.spacexdata.com/v4/launchpads/{launch['location_id']}\"\n",
        "    res = requests.get(launchpad_url)\n",
        "    launchpad = res.json()\n",
        "\n",
        "    # Check if latitude and longitude are available\n",
        "    lat = launchpad.get('latitude', 'N/A')\n",
        "    lon = launchpad.get('longitude', 'N/A')\n",
        "\n",
        "    if lat == 'N/A' or lon == 'N/A':\n",
        "        print(f\"Could not get latitude or longitude for launchpad: {launch.get('location_id', 'N/A')}\")\n",
        "        return {\n",
        "            \"latitude\": lat,\n",
        "            \"longitude\": lon,\n",
        "            \"forecast\": {\"list\": [{\"weather\": [{\"description\": \"N/A\"}], \"main\": {\"temp\": \"N/A\"}}]}\n",
        "        }\n",
        "\n",
        "\n",
        "    res = requests.get(\n",
        "        \"https://api.openweathermap.org/data/2.5/forecast\",\n",
        "        params={\"appid\": API_KEY, \"lat\": lat, \"lon\": lon, \"units\": \"metric\"}\n",
        "    )\n",
        "    forecast = res.json()\n",
        "\n",
        "    # Add error handling to check if the API call was successful and the expected keys exist\n",
        "    if res.status_code != 200 or 'list' not in forecast:\n",
        "        print(f\"Error fetching weather data: {forecast}\")\n",
        "        # You might want to raise an exception or return a default value here\n",
        "        # For now, returning an empty structure to prevent the KeyError in summarize\n",
        "        return {\n",
        "            \"latitude\": lat,\n",
        "            \"longitude\": lon,\n",
        "            \"forecast\": {\"list\": [{\"weather\": [{\"description\": \"N/A\"}], \"main\": {\"temp\": \"N/A\"}}]}\n",
        "        }\n",
        "\n",
        "    return {\n",
        "        \"latitude\": lat,\n",
        "        \"longitude\": lon,\n",
        "        \"forecast\": forecast\n",
        "    }\n",
        "\n",
        "def get_news(launch):\n",
        "    \"\"\"Search News API for articles related to SpaceX launch.\"\"\"\n",
        "    API_KEY = os.getenv(\"NEWS_API_KEY\")\n",
        "    res = requests.get(\"https://newsapi.org/v2/everything\",\n",
        "                        params={\"q\": \"SpaceX launch\", \"apiKey\": API_KEY})\n",
        "    articles = res.json().get(\"articles\", [])[:5]  # first 5 articles, use .get() for safety\n",
        "    return articles\n",
        "\n",
        "def summarize(launch, weather, news):\n",
        "    \"\"\"Combine all into a summary.\"\"\"\n",
        "    # Use .get() with default values to safely access nested keys\n",
        "    weather_description = weather.get('forecast', {}).get('list', [{}])[0].get('weather', [{}])[0].get('description', 'N/A').lower() # Get description and convert to lowercase\n",
        "    temp = weather.get('forecast', {}).get('list', [{}])[0].get('main', {}).get('temp', 'N/A')\n",
        "    launch_time_utc = launch.get('time', 'N/A')\n",
        "\n",
        "    # Predict launch viability based on simple weather conditions\n",
        "    launch_prediction = \"Likely proceeding\"\n",
        "    if \"rain\" in weather_description or \"storm\" in weather_description or \"thunderstorm\" in weather_description or \"snow\" in weather_description or \"fog\" in weather_description:\n",
        "        launch_prediction = \"Potentially delayed due to weather\"\n",
        "    # Add a check if launch data is not available\n",
        "    if launch_time_utc == 'N/A':\n",
        "         launch_prediction = \"Cannot predict, launch data not available\"\n",
        "\n",
        "\n",
        "    # Extract and format the launch date\n",
        "    launch_date = \"N/A\"\n",
        "    if launch_time_utc != 'N/A':\n",
        "        try:\n",
        "            # Assuming the format is like 'YYYY-MM-DDTHH:MM:SS.sssZ'\n",
        "            launch_datetime_obj = datetime.strptime(launch_time_utc, \"%Y-%m-%dT%H:%M:%S.%fZ\")\n",
        "            launch_date = launch_datetime_obj.strftime(\"%Y-%m-%d\") # Format to YYYY-MM-DD\n",
        "        except ValueError:\n",
        "            try:\n",
        "                # Try parsing without milliseconds if the first format fails\n",
        "                launch_datetime_obj = datetime.strptime(launch_time_utc, \"%Y-%m-%dT%H:%M:%SZ\")\n",
        "                launch_date = launch_datetime_obj.strftime(\"%Y-%m-%d\")\n",
        "            except ValueError:\n",
        "                 launch_date = \"N/A (Could not parse date)\"\n",
        "\n",
        "\n",
        "    summary = f\"\"\"🚀 Next launch:\n",
        "    - Predicted Launch Date: {launch_date}\n",
        "    - Location (latitude:{weather.get('latitude', 'N/A')} , longitude:{weather.get('longitude', 'N/A')})\n",
        "    - Time: {launch_time_utc}\n",
        "    - Weather forecast at launch: {weather_description.capitalize()} with temperature {temp}°C\n",
        "    - Launch Weather Prediction: {launch_prediction}\n",
        "\n",
        "    📰 News related to launch:\n",
        "    \"\"\"\n",
        "    if not news: # Check if news list is empty\n",
        "        summary += \"No news articles found related to the launch.\\n\"\n",
        "    else:\n",
        "        for i, article in enumerate(news, 1):\n",
        "            # Use .get() with default values for article details as well\n",
        "            title = article.get('title', 'No Title')\n",
        "            url = article.get('url', '#')\n",
        "            summary += f\"{i}. {title} - {url}\\n\"\n",
        "\n",
        "    return summary\n",
        "\n",
        "# Run pipeline\n",
        "launch = get_next_launch_after_2025() # Call the new function\n",
        "weather = get_weather(launch)\n",
        "news = get_news(launch)\n",
        "\n",
        "final_report = summarize(launch, weather, news)\n",
        "print(final_report)"
      ],
      "metadata": {
        "colab": {
          "base_uri": "https://localhost:8080/"
        },
        "id": "qb5lvym2ayDC",
        "outputId": "012e04d1-d704-4ebb-f545-f5845c59813c"
      },
      "execution_count": 16,
      "outputs": [
        {
          "output_type": "stream",
          "name": "stdout",
          "text": [
            "No SpaceX launch found after 2025.\n",
            "No launch location available for weather forecast.\n",
            "🚀 Next launch:\n",
            "    - Predicted Launch Date: N/A\n",
            "    - Location (latitude:N/A , longitude:N/A)\n",
            "    - Time: N/A\n",
            "    - Weather forecast at launch: N/a with temperature N/A°C\n",
            "    - Launch Weather Prediction: Cannot predict, launch data not available\n",
            "\n",
            "    📰 News related to launch:\n",
            "    1. SpaceX Tests Starship Fixes After Back-to-Back Failures - https://www.wired.com/story/spacex-tests-starship-fixes-after-back-to-back-failures/\n",
            "2. Florida Environmentalists Sound Alarm on SpaceX Bid to Launch 120 Rockets a Year - https://gizmodo.com/florida-environmentalists-sound-alarm-on-spacex-bid-to-launch-120-rockets-a-year-2000603090\n",
            "3. Watch Live as SpaceX Tries to Break Starship’s Explosive Losing Streak - https://gizmodo.com/watch-live-as-spacex-tries-to-break-starships-explosive-losing-streak-2000607609\n",
            "4. After Back-to-Back Flops, SpaceX Says Starship’s 9th Test Flight Is a Go - https://gizmodo.com/after-back-to-back-flops-spacex-says-starships-9th-test-flight-is-a-go-2000606706\n",
            "5. How To Watch SpaceX's Next Starship Test Flight on Tuesday - https://www.cnet.com/science/space/how-to-watch-spacexs-next-starship-test-flight-on-tuesday/\n",
            "\n"
          ]
        }
      ]
    }
  ]
}